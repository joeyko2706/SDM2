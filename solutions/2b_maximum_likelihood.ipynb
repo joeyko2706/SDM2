{
 "cells": [
  {
   "cell_type": "markdown",
   "metadata": {
    "tags": [
     "task"
    ]
   },
   "source": [
    "# Sheet 2: Least-squares and Maximum-likelihood Estimators"
   ]
  },
  {
   "cell_type": "code",
   "execution_count": 1,
   "metadata": {
    "tags": [
     "task"
    ]
   },
   "outputs": [],
   "source": [
    "import matplotlib.pyplot as plt\n",
    "import numpy as np\n",
    "import scipy.stats as st\n",
    "from iminuit import Minuit\n",
    "from resample.bootstrap import variance\n",
    "from scipy.optimize import minimize\n",
    "\n",
    "rng = np.random.default_rng(seed=1)"
   ]
  },
  {
   "cell_type": "markdown",
   "metadata": {
    "tags": [
     "task"
    ]
   },
   "source": [
    "---\n",
    "\n",
    "## Task 3: Maximum-Likelihood Estimator\n",
    "\n",
    "### 3.1\n",
    "\n",
    "Calculate the maximum-likelihood estimator _analytically_ for the probability density function $f(t; \\theta)$ and $n$ independent measurements $t_i$. \n",
    "\n",
    "$$f(t; \\theta) = \\frac{1}{2\\theta\\sqrt{t}} \\cdot \\exp\\left(-\\frac{1}{\\theta}\\sqrt{t}\\right) \\quad \\text{for } t>0$$\n",
    "\n",
    "---"
   ]
  },
  {
   "cell_type": "markdown",
   "metadata": {},
   "source": [
    "In general:\n",
    "\n",
    "$$L(\\theta) = \\prod_{i=1}^n f(t_i;\\theta)$$\n",
    "$$\\ln\\!L(\\theta) = \\sum_{i=1}^n \\ln f(t_i;\\theta)$$\n",
    "\n",
    "We insert $f(t)$:\n",
    "\n",
    "$$\n",
    "\\begin{align}\n",
    "\\ln L(\\theta) &= \\sum_{i=1}^n \\left(-\\ln(2\\theta) -\\ln(\\sqrt{t_i}) - \\frac{1}{\\theta} \\sqrt{t_i} \\right) \\\\\n",
    "&= -n \\ln(2\\theta) - \\sum_{i=1}^n \\left( \\ln(\\sqrt{t_i}) + \\frac{1}{\\theta} \\sqrt{t_i} \\right)\n",
    "\\end{align}\n",
    "$$\n",
    "\n",
    "For the estimator, we need the derivative with respect to $\\theta$, set it equal to zero, and solve the equation:\n",
    "\n",
    "$$\n",
    "\\frac{\\partial \\ln L(\\theta)}{\\partial \\theta} = -n \\cdot \\frac{1}{2\\theta}\\cdot 2 - 0 + \\frac{1}{\\theta^2} \\cdot \\sum_{i=1}^n \\sqrt{t_i} \\overset{!}{=} 0\n",
    "$$\n",
    "\n",
    "Solving gives\n",
    "\n",
    "$$ \\hat{\\theta} = \\frac{1}{n}\\sum_{i=1}^n \\sqrt{t_i}$$"
   ]
  },
  {
   "cell_type": "markdown",
   "metadata": {
    "tags": [
     "task"
    ]
   },
   "source": [
    "---\n",
    "\n",
    "### 3.2\n",
    "\n",
    "_Analytically_ compute the uncertainty estimate $\\hat \\sigma_\\theta$ of the maximum-likelihood estimator $\\hat \\theta$.\n",
    "\n",
    "---"
   ]
  },
  {
   "cell_type": "markdown",
   "metadata": {},
   "source": [
    "The general asymptotic formula to get an estimate of the covariance matrix of the parameters of a likelihood function is\n",
    "\n",
    "$$\n",
    "\\hat C_{\\vec{\\theta}} = -H^{-1}|_{\\vec{\\theta} = \\hat{\\vec{\\theta}}} \\quad \\text{with} \\quad H_{k\\ell} = \\frac{\\partial^2 \\big(\\sum_i \\ln f(x_i; \\vec{\\theta})\\big)}{\\partial \\theta_k \\, \\partial \\theta_\\ell}\n",
    "$$\n",
    "\n",
    "The second derivative for our case is\n",
    "\n",
    "$$\n",
    "\\frac{\\partial^2 \\sum_i \\ln f(t_i; \\theta)}{\\partial \\theta^2} = \\frac{n}{\\theta^2} - \\frac{2}{\\theta^3} \\sum_i \\sqrt{t_i}\n",
    "$$\n",
    "\n",
    "So we get\n",
    "\n",
    "$$\n",
    "\\hat\\sigma_\\theta^2 = \\left( \\frac{2}{\\hat{\\theta}^3} \\underbrace{\\sum_i \\sqrt{t_i}}_{n\\hat\\theta} - \\frac{n}{\\hat{\\theta}^2} \\right)^{-1} = \\left( \\frac{2}{\\hat{\\theta}^3} n \\hat{\\theta} - \\frac{n}{\\hat{\\theta}^2} \\right)^{-1} = \\frac{\\hat{\\theta}^2}{n}\n",
    "$$"
   ]
  },
  {
   "cell_type": "markdown",
   "metadata": {
    "tags": [
     "task"
    ]
   },
   "source": [
    "---\n",
    "\n",
    "### 3.3\n",
    "\n",
    "In practice, the only challenge when using maximum-likelihood estimation is to write down the correct likelihood (product of probabilities of data under the model) for the following problems.\n",
    "\n",
    "Write the general likelihood function for an experiment whose result is a histogram over the random variable $x$ with a probability density function $f(x; \\theta)$.   \n",
    "The total number of samples $n$ in the histogram is not fixed but follows a Poisson distribution with unknown expectation $\\mu$.\n",
    "\n",
    "The histogram may not cover the full range of $x$ values. Does the likelihood function change then?\n",
    "\n",
    "Remember that the likelihood of two independent events is the product of their individual likelihoods.\n",
    "\n",
    "---"
   ]
  },
  {
   "cell_type": "markdown",
   "metadata": {},
   "source": [
    "The probability $P_k$ for one sample $x$ to end up in the interval $[x_k, x_{k+1})$ is\n",
    "$$\n",
    "P_k(\\theta) = P(x_{k+1}; \\theta) - P(x_k; \\theta)\n",
    "$$\n",
    "where $P(x; \\theta)$ is the CDF of $f(x; \\theta)$.\n",
    "\n",
    "Since the total number of events is not fixed, but Poisson distributed around $\\mu$, the number of events that end up in an arbitrary interval $[x_k, x_{k+1})$ is also Poisson distributed.   \n",
    "The expected number of counts in that interval is\n",
    "$$\n",
    "\\mu_k(\\mu, \\theta) = \\mu P_k(\\theta) .\n",
    "$$\n",
    "Let's define $\\phi := (\\mu, \\theta)$ to save some typing.\n",
    "\n",
    "The log-likelihood function is\n",
    "$$\n",
    "\\begin{align*}\n",
    "\\ln L(\\phi) &= \\sum_k \\ln \\mathcal P(n_k; \\mu_k(\\phi)) \\quad \\text{with} \\quad \\mathcal P(k; \\mu) = \\frac{e^{-\\mu} \\mu^k}{k!} \\\\\n",
    "              &= \\sum_k -\\mu_k(\\phi) + k \\ln \\mu_k(\\phi) + \\text{const.}\n",
    "\\end{align*}\n",
    "$$\n",
    "\n",
    "The (log-)likelihood function looks exactly the same if the histogram does not cover the full range of $x$ values. It also holds if there were gaps between the intervals.   \n",
    "The only requirement is that the intervals do not overlap, since then the probabilities would not be independent."
   ]
  },
  {
   "cell_type": "markdown",
   "metadata": {
    "tags": [
     "task"
    ]
   },
   "source": [
    "---\n",
    "\n",
    "## Task 4: Maximum-Likelihood Fit\n",
    "\n",
    "We now perform a maximum-likelihood fit for the problem in Task 2. The maximum-likelihood method does not require binning of the data, which can be an advantage.   \n",
    "The fit is easier to implement and there is no need to choose an appropriate binning for the data, which preserves the essential information.   \n",
    "However, it can make the fit also very time-consuming if the data sample is very large. [A comparison can be found here](https://iminuit.readthedocs.io/en/stable/notebooks/binned_vs_unbinned.html). \n",
    "\n",
    "It is always possible to write a likelihood for any statistical problem, also for fitting binned data in a histogram, but we will not look into that here.\n",
    "\n",
    "### 4.1\n",
    "\n",
    "Write code for a negative log-likelihood for the unbinned sample from Task 2. Use the probability density $\\rho(x)$ that you have previously calculated.\n",
    "\n",
    "Use `minimize` from `scipy.optimize` to minimize the negative log-likelihood for a random sample generated using the code from Task 2.1. Use the same `bounds` as in Task 2.4.\n",
    "\n",
    "---"
   ]
  },
  {
   "cell_type": "code",
   "execution_count": 2,
   "metadata": {
    "tags": [
     "task"
    ]
   },
   "outputs": [
    {
     "data": {
      "image/png": "[encoded data removed]",
      "text/plain": [
       "<Figure size 640x480 with 1 Axes>"
      ]
     },
     "metadata": {},
     "output_type": "display_data"
    }
   ],
   "source": [
    "def generate(rng, mu, sigma):\n",
    "    ns, nb = rng.poisson(100, size=2)\n",
    "    b = rng.uniform(0, 1, size=nb)\n",
    "    s = rng.normal(mu, sigma, size=ns)\n",
    "    x = np.append(s, b)\n",
    "    return x\n",
    "\n",
    "\n",
    "def generate_histogram(x):\n",
    "    ntot = len(x)\n",
    "    n, xe = np.histogram(x, range=(0, 1), bins=50)\n",
    "    return ntot, n, xe\n",
    "\n",
    "\n",
    "mu_true = 0.5\n",
    "sigma_true = 0.05\n",
    "\n",
    "x = generate(rng, mu_true, sigma_true)\n",
    "ntot, n, xe = generate_histogram(x)\n",
    "\n",
    "cx = 0.5 * (xe[1:] + xe[:-1])\n",
    "plt.errorbar(cx, n, n**0.5, fmt=\"ok\")\n",
    "\n",
    "\n",
    "def rho(x, fs, mu, sigma):\n",
    "    return fs * st.norm.pdf(x, mu, sigma) + (1 - fs)\n",
    "\n",
    "\n",
    "def P(x, fs, mu, sigma):\n",
    "    return fs * st.norm.cdf(x, mu, sigma) + (1 - fs) * x\n",
    "\n",
    "\n",
    "def expected(xe, N, fs, mu, sigma):\n",
    "    return np.diff(P(xe, fs, mu, sigma)) * N\n",
    "\n",
    "\n",
    "start = (0.3, 0.4, 0.1)\n",
    "bounds = ((0.1, 0.9), (0.3, 0.7), (0.01, 0.2))"
   ]
  },
  {
   "cell_type": "code",
   "execution_count": 3,
   "metadata": {},
   "outputs": [
    {
     "data": {
      "image/png": "[encoded data removed]",
      "text/plain": [
       "<Figure size 640x480 with 1 Axes>"
      ]
     },
     "metadata": {},
     "output_type": "display_data"
    }
   ],
   "source": [
    "def nll(x, fs, mu, sigma):\n",
    "    return -np.sum(np.log(rho(x, fs, mu, sigma)))\n",
    "\n",
    "\n",
    "def fit(x):\n",
    "    r = minimize(\n",
    "        lambda par: nll(x, *par),\n",
    "        start,\n",
    "        bounds=bounds,\n",
    "    )\n",
    "    return r\n",
    "\n",
    "\n",
    "x = generate(rng, mu_true, sigma_true)\n",
    "result = fit(x)\n",
    "par = result.x\n",
    "# to plot the fit result, we bin the sample and the model as before\n",
    "ntot = len(x)\n",
    "n, xe = np.histogram(x, range=(0, 1), bins=50)\n",
    "plt.errorbar(cx, n, n**0.5, fmt=\"o\")\n",
    "plt.stairs(expected(xe, ntot, *par), xe, label=\"fit\")\n",
    "plt.xlabel(\"x\")\n",
    "plt.legend();"
   ]
  },
  {
   "cell_type": "markdown",
   "metadata": {
    "tags": [
     "task"
    ]
   },
   "source": [
    "---\n",
    "\n",
    "### 4.2\n",
    "\n",
    "Numerically compute an estimate of the parameter uncertainties from the log-likelihood function with the `iminuit` package. What is the estimated uncertainty of $f_s$?\n",
    "\n",
    "*Hints*\n",
    "\n",
    "* Create an instance of the `Minuit` class from the `iminuit` package. Use the parameter values from `minimize` as starting values.\n",
    "* Since our function is a negative log-likelihood, we need to set the `errordef` attribute of the `Minuit` instance to `Minuit.LIKELIHOOD`.\n",
    "\n",
    "In practice, you would normally also do the minimization with `Minuit` and use the built-in cost function `iminuit.cost.UnbinnedNLL` instead of a hand-written one for convenience. See the [iminuit docs for more information on how to perform fits using the built-in cost functions](https://iminuit.readthedocs.io/en/stable/index.html).\n",
    "\n",
    "---"
   ]
  },
  {
   "cell_type": "code",
   "execution_count": 4,
   "metadata": {},
   "outputs": [
    {
     "data": {
      "text/html": [
       "<table>\n",
       "    <tr>\n",
       "        <th colspan=\"2\" style=\"text-align:center\" title=\"Minimizer\"> External </th>\n",
       "    </tr>\n",
       "    <tr>\n",
       "        <td style=\"text-align:left\" title=\"Minimum value of function\"> FCN = -79.5 </td>\n",
       "        <td style=\"text-align:center\" title=\"Total number of function and (optional) gradient evaluations\"> Nfcn = 35 </td>\n",
       "    </tr>\n",
       "    <tr>\n",
       "        <td style=\"text-align:left\" title=\"Estimated distance to minimum and goal\"> EDM = 1.29e-10 (Goal: 0.0001) </td>\n",
       "        <td style=\"text-align:center\" title=\"Total run time of algorithms\">  </td>\n",
       "    </tr>\n",
       "    <tr>\n",
       "        <td style=\"text-align:center;background-color:#92CCA6;color:black\"> Valid Minimum </td>\n",
       "        <td style=\"text-align:center;background-color:#92CCA6;color:black\"> Below EDM threshold (goal x 10) </td>\n",
       "    </tr>\n",
       "    <tr>\n",
       "        <td style=\"text-align:center;background-color:#92CCA6;color:black\"> No parameters at limit </td>\n",
       "        <td style=\"text-align:center;background-color:#92CCA6;color:black\"> Below call limit </td>\n",
       "    </tr>\n",
       "    <tr>\n",
       "        <td style=\"text-align:center;background-color:#92CCA6;color:black\"> Hesse ok </td>\n",
       "        <td style=\"text-align:center;background-color:#92CCA6;color:black\"> Covariance accurate </td>\n",
       "    </tr>\n",
       "</table><table>\n",
       "    <tr>\n",
       "        <td></td>\n",
       "        <th title=\"Variable name\"> Name </th>\n",
       "        <th title=\"Value of parameter\"> Value </th>\n",
       "        <th title=\"Hesse error\"> Hesse Error </th>\n",
       "        <th title=\"Minos lower error\"> Minos Error- </th>\n",
       "        <th title=\"Minos upper error\"> Minos Error+ </th>\n",
       "        <th title=\"Lower limit of the parameter\"> Limit- </th>\n",
       "        <th title=\"Upper limit of the parameter\"> Limit+ </th>\n",
       "        <th title=\"Is the parameter fixed in the fit\"> Fixed </th>\n",
       "    </tr>\n",
       "    <tr>\n",
       "        <th> 0 </th>\n",
       "        <td> x0 </td>\n",
       "        <td> 0.49 </td>\n",
       "        <td> 0.05 </td>\n",
       "        <td>  </td>\n",
       "        <td>  </td>\n",
       "        <td>  </td>\n",
       "        <td>  </td>\n",
       "        <td>  </td>\n",
       "    </tr>\n",
       "    <tr>\n",
       "        <th> 1 </th>\n",
       "        <td> x1 </td>\n",
       "        <td> 0.501 </td>\n",
       "        <td> 0.006 </td>\n",
       "        <td>  </td>\n",
       "        <td>  </td>\n",
       "        <td>  </td>\n",
       "        <td>  </td>\n",
       "        <td>  </td>\n",
       "    </tr>\n",
       "    <tr>\n",
       "        <th> 2 </th>\n",
       "        <td> x2 </td>\n",
       "        <td> 0.050 </td>\n",
       "        <td> 0.005 </td>\n",
       "        <td>  </td>\n",
       "        <td>  </td>\n",
       "        <td>  </td>\n",
       "        <td>  </td>\n",
       "        <td>  </td>\n",
       "    </tr>\n",
       "</table><table>\n",
       "    <tr>\n",
       "        <td></td>\n",
       "        <th> x0 </th>\n",
       "        <th> x1 </th>\n",
       "        <th> x2 </th>\n",
       "    </tr>\n",
       "    <tr>\n",
       "        <th> x0 </th>\n",
       "        <td> 0.00211 </td>\n",
       "        <td style=\"background-color:rgb(250,249,249);color:black\"> 0 <strong>(0.005)</strong> </td>\n",
       "        <td style=\"background-color:rgb(250,204,204);color:black\"> 0.074e-3 <strong>(0.306)</strong> </td>\n",
       "    </tr>\n",
       "    <tr>\n",
       "        <th> x1 </th>\n",
       "        <td style=\"background-color:rgb(250,249,249);color:black\"> 0 <strong>(0.005)</strong> </td>\n",
       "        <td> 3.83e-05 </td>\n",
       "        <td style=\"background-color:rgb(250,246,246);color:black\"> 0.001e-3 <strong>(0.024)</strong> </td>\n",
       "    </tr>\n",
       "    <tr>\n",
       "        <th> x2 </th>\n",
       "        <td style=\"background-color:rgb(250,204,204);color:black\"> 0.074e-3 <strong>(0.306)</strong> </td>\n",
       "        <td style=\"background-color:rgb(250,246,246);color:black\"> 0.001e-3 <strong>(0.024)</strong> </td>\n",
       "        <td> 2.75e-05 </td>\n",
       "    </tr>\n",
       "</table>"
      ],
      "text/plain": [
       "┌─────────────────────────────────────────────────────────────────────────┐\n",
       "│                               External                                  │\n",
       "├──────────────────────────────────┬──────────────────────────────────────┤\n",
       "│ FCN = -79.5                      │              Nfcn = 35               │\n",
       "│ EDM = 1.29e-10 (Goal: 0.0001)    │                                      │\n",
       "├──────────────────────────────────┼──────────────────────────────────────┤\n",
       "│          Valid Minimum           │   Below EDM threshold (goal x 10)    │\n",
       "├──────────────────────────────────┼──────────────────────────────────────┤\n",
       "│      No parameters at limit      │           Below call limit           │\n",
       "├──────────────────────────────────┼──────────────────────────────────────┤\n",
       "│             Hesse ok             │         Covariance accurate          │\n",
       "└──────────────────────────────────┴──────────────────────────────────────┘\n",
       "┌───┬──────┬───────────┬───────────┬────────────┬────────────┬─────────┬─────────┬───────┐\n",
       "│   │ Name │   Value   │ Hesse Err │ Minos Err- │ Minos Err+ │ Limit-  │ Limit+  │ Fixed │\n",
       "├───┼──────┼───────────┼───────────┼────────────┼────────────┼─────────┼─────────┼───────┤\n",
       "│ 0 │ x0   │   0.49    │   0.05    │            │            │         │         │       │\n",
       "│ 1 │ x1   │   0.501   │   0.006   │            │            │         │         │       │\n",
       "│ 2 │ x2   │   0.050   │   0.005   │            │            │         │         │       │\n",
       "└───┴──────┴───────────┴───────────┴────────────┴────────────┴─────────┴─────────┴───────┘\n",
       "┌────┬────────────────────────────┐\n",
       "│    │       x0       x1       x2 │\n",
       "├────┼────────────────────────────┤\n",
       "│ x0 │  0.00211        0 0.074e-3 │\n",
       "│ x1 │        0 3.83e-05 0.001e-3 │\n",
       "│ x2 │ 0.074e-3 0.001e-3 2.75e-05 │\n",
       "└────┴────────────────────────────┘"
      ]
     },
     "execution_count": 4,
     "metadata": {},
     "output_type": "execute_result"
    }
   ],
   "source": [
    "m = Minuit(lambda par: nll(x, *par), par)\n",
    "m.errordef = Minuit.LIKELIHOOD\n",
    "m.hesse()"
   ]
  },
  {
   "cell_type": "markdown",
   "metadata": {
    "tags": [
     "task"
    ]
   },
   "source": [
    "---\n",
    "\n",
    "### 4.3\n",
    "\n",
    "Repeat the fits from Task 4.1 with independent samples to get the distribution of the parameter $f_s$.\n",
    "\n",
    "Is the $f_s$ distribution biased?\n",
    "\n",
    "Does the standard deviation of the distribution agree with the estimated uncertainty from Task 4.2?\n",
    "\n",
    "---"
   ]
  },
  {
   "cell_type": "code",
   "execution_count": 5,
   "metadata": {},
   "outputs": [
    {
     "data": {
      "image/png": "[encoded data removed]",
      "text/plain": [
       "<Figure size 640x480 with 1 Axes>"
      ]
     },
     "metadata": {},
     "output_type": "display_data"
    }
   ],
   "source": [
    "fs = []\n",
    "for _ in range(100):\n",
    "    x = generate(rng, mu_true, sigma_true)\n",
    "    par = fit(x).x\n",
    "    fs.append(par[0])\n",
    "\n",
    "plt.hist(fs, bins=20)\n",
    "plt.axvline(0.5, ls=\":\", color=\"r\")\n",
    "plt.title(f\"mean of $f_s$ = {np.mean(fs):.3f}, std.dev. of $f_s$ = {np.std(fs):.3f}\");"
   ]
  },
  {
   "cell_type": "markdown",
   "metadata": {
    "tags": [
     "task"
    ]
   },
   "source": [
    "---\n",
    "\n",
    "### 4.4 (Bonus)\n",
    "\n",
    "Do the same as in 4.3, but this time use the bootstrap to generate samples from the original dataset to get the distribution of the parameter $f_s$.\n",
    "\n",
    "Does the standard deviation of the distribution agree with the estimated uncertainty from Task 4.2?\n",
    "\n",
    "---"
   ]
  },
  {
   "cell_type": "code",
   "execution_count": 6,
   "metadata": {},
   "outputs": [
    {
     "data": {
      "text/plain": [
       "np.float64(0.04424020338974606)"
      ]
     },
     "execution_count": 6,
     "metadata": {},
     "output_type": "execute_result"
    }
   ],
   "source": [
    "variance(lambda x: fit(x).x[0], x, size=1000) ** 0.5"
   ]
  },
  {
   "cell_type": "code",
   "execution_count": null,
   "metadata": {},
   "outputs": [],
   "source": []
  }
 ],
 "metadata": {
  "kernelspec": {
   "display_name": "Python 3 (ipykernel)",
   "language": "python",
   "name": "python3"
  },
  "language_info": {
   "codemirror_mode": {
    "name": "ipython",
    "version": 3
   },
   "file_extension": ".py",
   "mimetype": "text/x-python",
   "name": "python",
   "nbconvert_exporter": "python",
   "pygments_lexer": "ipython3",
   "version": "3.13.5"
  }
 },
 "nbformat": 4,
 "nbformat_minor": 4
}
